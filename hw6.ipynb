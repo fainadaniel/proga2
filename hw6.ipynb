{
 "cells": [
  {
   "cell_type": "code",
   "execution_count": 9,
   "metadata": {},
   "outputs": [],
   "source": [
    "import urllib.request\n",
    "import numpy as np\n",
    "import matplotlib.pyplot as plt"
   ]
  },
  {
   "cell_type": "code",
   "execution_count": 19,
   "metadata": {},
   "outputs": [
    {
     "data": {
      "text/plain": [
       "<Figure size 432x288 with 0 Axes>"
      ]
     },
     "metadata": {},
     "output_type": "display_data"
    }
   ],
   "source": [
    "fig = plt.figure()\n",
    "token = '262780d56c28122b55670b935f27b14208c2ec5aee540bd6851f449a161692783942974bde9b40c7f8f1d'\n",
    "owner_id = 69511861\n",
    "owner_unstripped = ':69511861,'\n",
    "schetchik = 0\n",
    "counter = 0"
   ]
  },
  {
   "cell_type": "code",
   "execution_count": 11,
   "metadata": {},
   "outputs": [],
   "source": [
    "def comments_words(whichpost):\n",
    "    print(whichpost)\n",
    "    req = urllib.request.Request('https://api.vk.com/method/wall.getComments?owner_id={}&post_id={}&offset={}&v=5.92&access_token={}'.format(owner_id, whichpost, counter, token)) \n",
    "    response = urllib.request.urlopen(req) \n",
    "    result = response.read().decode('utf-8')\n",
    "\n",
    "    comments = []\n",
    "    m = result.split('\"')\n",
    "    for x in range (len (m)):\n",
    "        if m[x] == 'text':\n",
    "            comments.append(m[x+2])\n",
    "\n",
    "        if m[x] == 'response' and m[x+2] == \"count\" and m[x+3] == ':0,':\n",
    "            print('no comments to post')\n",
    "    wordsnum = 0\n",
    "    numbers = []\n",
    "    amounts = 0\n",
    "    for comment in comments:\n",
    "        wordsnum = len(comment.split())\n",
    "        for x in range (1, len(comment)-1):\n",
    "            if comment[x] == '\\\\' and comment[x+1] == 'n':\n",
    "                wordsnum = wordsnum+1\n",
    "        numbers.append(wordsnum)\n",
    "    if len(numbers)!= 0:\n",
    "        amounts = sum(numbers)/len(numbers)\n",
    "        print(len(numbers))\n",
    "    \n",
    "    return (amounts)"
   ]
  },
  {
   "cell_type": "code",
   "execution_count": 12,
   "metadata": {},
   "outputs": [],
   "source": [
    "def extra_infos():\n",
    "    request = 'https://api.vk.com/method/users.get?user_ids={}&fields=sex,city,home_town,bdate&v=5.92&access_token={}'.format(owner_id, token)\n",
    "    req = urllib.request.Request(request)\n",
    "    response = urllib.request.urlopen(req) \n",
    "    result = response.read().decode('utf-8')\n",
    "    m = result.split('\"')\n",
    "    print(m)\n",
    "    return m"
   ]
  },
  {
   "cell_type": "code",
   "execution_count": 17,
   "metadata": {},
   "outputs": [],
   "source": [
    "def post_words():\n",
    "    counter = 0\n",
    "    req = urllib.request.Request('https://api.vk.com/method/wall.get?owner_id={}&offset={}&count=5&v=5.92&access_token={}'.format(owner_id, schetchik, token)) \n",
    "    response = urllib.request.urlopen(req) \n",
    "    result = response.read().decode('utf-8')\n",
    "    m = result.split('\"')\n",
    "    postids = []\n",
    "    for y in range (len(m)):\n",
    "        if m[y] == 'id' and m[y+2] == 'from_id':\n",
    "            whichpost = int(m[y+1].split(\",\")[0].split(\":\")[1])\n",
    "            postids.append(whichpost)\n",
    "    posts = []\n",
    "    for x in range (len (m)):\n",
    "        if m[x] == 'post' and m[x+2] == 'text' and m[x+4] != '' and m[x-7] == owner_unstripped:\n",
    "             posts.append(m[x+4])\n",
    "    wordsnum = 0\n",
    "    whichpost = \"\"\n",
    "    z = 0\n",
    "    for post in posts:\n",
    "        wordsnum = len(post.split())\n",
    "        for x in range (1, len(post)-1):\n",
    "            if post[x] == '\\\\' and post[x+1] == 'n':\n",
    "                wordsnum = wordsnum+1\n",
    "        amounts = comments_words(postids[z])\n",
    "        z = z+1\n",
    "        \n",
    "        if amounts != 0:\n",
    "            ratio = wordsnum/amounts\n",
    "            print(wordsnum, 'words with average length of comments:', amounts, ', ratio:', ratio)\n",
    "\n",
    "        else:\n",
    "            ratio = None\n",
    "            print(wordsnum, 'words with no comments', ', ratio:', ratio)\n",
    "        scatter1 = plt.scatter(wordsnum, amounts)\n",
    "    return ()"
   ]
  },
  {
   "cell_type": "code",
   "execution_count": 20,
   "metadata": {},
   "outputs": [
    {
     "name": "stdout",
     "output_type": "stream",
     "text": [
      "2678\n",
      "5\n",
      "14 words with average length of comments: 7.6 , ratio: 1.842105263157895\n",
      "2676\n",
      "no comments to post\n",
      "195 words with no comments , ratio: None\n",
      "2671\n",
      "1\n",
      "17 words with average length of comments: 19.0 , ratio: 0.8947368421052632\n",
      "2670\n",
      "no comments to post\n",
      "6 words with no comments , ratio: None\n",
      "2654\n",
      "7\n",
      "37 words with average length of comments: 6.0 , ratio: 6.166666666666667\n",
      "2114\n",
      "10\n",
      "260 words with average length of comments: 11.6 , ratio: 22.413793103448278\n",
      "2102\n",
      "no comments to post\n",
      "23 words with no comments , ratio: None\n",
      "2100\n",
      "2 words with no comments , ratio: None\n",
      "2098\n",
      "8 words with no comments , ratio: None\n",
      "2092\n",
      "21 words with no comments , ratio: None\n",
      "['{', 'response', ':[{', 'id', ':69511861,', 'first_name', ':', 'Фаня', ',', 'last_name', ':', 'Даниэль', ',', 'is_closed', ':false,', 'can_access_closed', ':true,', 'sex', ':1,', 'bdate', ':', '29.1.1999', ',', 'city', ':{', 'id', ':1,', 'title', ':', 'Москва', '},', 'home_town', ':', 'москва', '}]}']\n"
     ]
    },
    {
     "data": {
      "image/png": "[encoded data removed]",
      "text/plain": [
       "<Figure size 432x288 with 1 Axes>"
      ]
     },
     "metadata": {
      "needs_background": "light"
     },
     "output_type": "display_data"
    }
   ],
   "source": [
    "post_words()\n",
    "schetchik=schetchik+100\n",
    "ratio = post_words()\n",
    "m = extra_infos()\n",
    "\n",
    "plt.show()\n"
   ]
  }
 ],
 "metadata": {
  "kernelspec": {
   "display_name": "Python 3",
   "language": "python",
   "name": "python3"
  },
  "language_info": {
   "codemirror_mode": {
    "name": "ipython",
    "version": 3
   },
   "file_extension": ".py",
   "mimetype": "text/x-python",
   "name": "python",
   "nbconvert_exporter": "python",
   "pygments_lexer": "ipython3",
   "version": "3.7.0"
  }
 },
 "nbformat": 4,
 "nbformat_minor": 2
}
